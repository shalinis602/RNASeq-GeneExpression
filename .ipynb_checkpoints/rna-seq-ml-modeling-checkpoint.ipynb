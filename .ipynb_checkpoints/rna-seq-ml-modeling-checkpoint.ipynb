{
 "cells": [
  {
   "cell_type": "code",
   "execution_count": 1,
   "id": "f65ad821",
   "metadata": {},
   "outputs": [
    {
     "name": "stdout",
     "output_type": "stream",
     "text": [
      "<class 'pandas.core.frame.DataFrame'>\n",
      "RangeIndex: 801 entries, 0 to 800\n",
      "Columns: 20532 entries, Unnamed: 0 to gene_20530\n",
      "dtypes: float64(20531), object(1)\n",
      "memory usage: 125.5+ MB\n",
      "None\n",
      "<class 'pandas.core.frame.DataFrame'>\n",
      "RangeIndex: 801 entries, 0 to 800\n",
      "Data columns (total 1 columns):\n",
      " #   Column  Non-Null Count  Dtype \n",
      "---  ------  --------------  ----- \n",
      " 0   Class   801 non-null    object\n",
      "dtypes: object(1)\n",
      "memory usage: 6.4+ KB\n",
      "None\n",
      "Deserialized X:\n",
      "<class 'pandas.core.frame.DataFrame'>\n",
      "RangeIndex: 801 entries, 0 to 800\n",
      "Columns: 20531 entries, gene_0 to gene_20530\n",
      "dtypes: float64(20531)\n",
      "memory usage: 125.5 MB\n",
      "None\n",
      "\n",
      "Deserialized y:\n",
      "0    PRAD\n",
      "1    LUAD\n",
      "2    PRAD\n",
      "3    PRAD\n",
      "4    BRCA\n",
      "Name: Class, dtype: object\n"
     ]
    }
   ],
   "source": [
    "import pandas as pd\n",
    "import pickle\n",
    "\n",
    "# Define serialization functions\n",
    "def pickle_serialize_object(filename, obj):\n",
    "    with open(filename, 'wb') as f:\n",
    "        pickle.dump(obj, f)\n",
    "\n",
    "def pickle_deserialize_object(filename):\n",
    "    with open(filename, 'rb') as f:\n",
    "        return pickle.load(f)\n",
    "\n",
    "# Step 1: Load the CSV files\n",
    "data = pd.read_csv('data.csv')\n",
    "label = pd.read_csv('labels.csv')\n",
    "\n",
    "# Step 2: Prepare data for serialization\n",
    "X = data.drop(columns=['Unnamed: 0'])  # Drop the 'Unnamed: 0' column if it's not needed\n",
    "\n",
    "# Drop the 'Unnamed: 0' column from label if present\n",
    "if 'Unnamed: 0' in label.columns:\n",
    "    label = label.drop(columns=['Unnamed: 0'])\n",
    "\n",
    "y = label['Class']  # Use the 'Class' column as the target\n",
    "\n",
    "# Step 3: Inspect the data\n",
    "print(data.info())\n",
    "print(label.info())\n",
    "\n",
    "# Serialize the features and target\n",
    "pickle_serialize_object('rna_seq_X.pkl', X)\n",
    "pickle_serialize_object('rna_seq_y.pkl', y)\n",
    "\n",
    "# Step 4: Deserialize the data\n",
    "X = pickle_deserialize_object('rna_seq_X.pkl')\n",
    "y = pickle_deserialize_object('rna_seq_y.pkl')\n",
    "\n",
    "# Verify the deserialized data\n",
    "print(\"Deserialized X:\")\n",
    "print(X.info())\n",
    "\n",
    "print(\"\\nDeserialized y:\")\n",
    "print(y.head())"
   ]
  },
  {
   "cell_type": "code",
   "execution_count": 2,
   "id": "a8e0714c",
   "metadata": {},
   "outputs": [
    {
     "name": "stdout",
     "output_type": "stream",
     "text": [
      "X_train shape: (640, 20531), y_train shape: (640,)\n",
      "X_test shape: (80, 20531), y_test shape: (80,)\n",
      "X_val shape: (81, 20531), y_val shape: (81,)\n"
     ]
    }
   ],
   "source": [
    "from sklearn.model_selection import train_test_split\n",
    "\n",
    "# Split data into training, valid and test sets (80% training, 10% test, 10% valid)\n",
    "X_train, X_test_temp, y_train, y_test_temp = train_test_split(X, y, test_size=0.2, random_state=1)\n",
    "X_test, X_val, y_test, y_val = train_test_split(X_test_temp, y_test_temp, test_size=0.5, random_state=1)\n",
    "# Check the shapes of the resulting datasets\n",
    "print(f\"X_train shape: {X_train.shape}, y_train shape: {y_train.shape}\")\n",
    "print(f\"X_test shape: {X_test.shape}, y_test shape: {y_test.shape}\")\n",
    "print(f\"X_val shape: {X_val.shape}, y_val shape: {y_val.shape}\")"
   ]
  },
  {
   "cell_type": "code",
   "execution_count": 3,
   "id": "2632ec65",
   "metadata": {},
   "outputs": [
    {
     "name": "stdout",
     "output_type": "stream",
     "text": [
      "Resampled class distribution:\n",
      "(array(['BRCA', 'COAD', 'KIRC', 'LUAD', 'PRAD'], dtype=object), array([245, 245, 245, 245, 245]))\n"
     ]
    }
   ],
   "source": [
    "from imblearn.over_sampling import SMOTE\n",
    "import numpy as np\n",
    "\n",
    "# Initialize SMOTE\n",
    "smote = SMOTE(random_state=1)\n",
    "\n",
    "# Resample X and y using SMOTE\n",
    "X_train_resampled, y_train_resampled = smote.fit_resample(X_train, y_train)\n",
    "\n",
    "# Check the class distribution after resampling\n",
    "print(\"Resampled class distribution:\")\n",
    "print(np.unique(y_train_resampled, return_counts=True))"
   ]
  },
  {
   "cell_type": "code",
   "execution_count": 4,
   "id": "3df87f02",
   "metadata": {},
   "outputs": [
    {
     "data": {
      "image/png": "[encoded data removed]",
      "text/plain": [
       "<Figure size 864x432 with 1 Axes>"
      ]
     },
     "metadata": {
      "needs_background": "light"
     },
     "output_type": "display_data"
    },
    {
     "name": "stdout",
     "output_type": "stream",
     "text": [
      "Explained variance ratios for each component:\n",
      "Principal Component 1: 0.1394\n",
      "Principal Component 2: 0.1006\n",
      "Principal Component 3: 0.0764\n",
      "Principal Component 4: 0.0596\n",
      "Principal Component 5: 0.0391\n",
      "Principal Component 6: 0.0321\n",
      "Principal Component 7: 0.0222\n",
      "\n",
      "Cumulative explained variance ratios:\n",
      "Principal Component 1: 0.1394\n",
      "Principal Component 2: 0.2400\n",
      "Principal Component 3: 0.3164\n",
      "Principal Component 4: 0.3760\n",
      "Principal Component 5: 0.4151\n",
      "Principal Component 6: 0.4472\n",
      "Principal Component 7: 0.4694\n"
     ]
    }
   ],
   "source": [
    "from sklearn.preprocessing import StandardScaler\n",
    "from sklearn.decomposition import PCA\n",
    "import matplotlib.pyplot as plt\n",
    "\n",
    "# Standardize the data\n",
    "scaler = StandardScaler()\n",
    "X_train_scaled = scaler.fit_transform(X_train_resampled)\n",
    "\n",
    "# Apply PCA with 7 components\n",
    "pca = PCA(n_components=7)\n",
    "X_train_pca = pca.fit_transform(X_train_scaled)\n",
    "\n",
    "# Plot explained variance for the selected number of components\n",
    "explained_variance = pca.explained_variance_ratio_\n",
    "cumulative_explained_variance = np.cumsum(explained_variance)\n",
    "\n",
    "plt.figure(figsize=(12, 6))\n",
    "plt.bar(range(1, len(explained_variance) + 1), explained_variance, alpha=0.5, align='center', label='Individual explained variance')\n",
    "plt.step(range(1, len(cumulative_explained_variance) + 1), cumulative_explained_variance, where='mid', label='Cumulative explained variance')\n",
    "plt.xlabel('Principal Components')\n",
    "plt.ylabel('Explained Variance Ratio')\n",
    "plt.title('Explained Variance by Principal Components')\n",
    "plt.legend(loc='best')\n",
    "plt.grid(True)\n",
    "plt.show()\n",
    "\n",
    "# Print explained variance values for the selected components\n",
    "print(\"Explained variance ratios for each component:\")\n",
    "for i, var in enumerate(explained_variance, start=1):\n",
    "    print(f\"Principal Component {i}: {var:.4f}\")\n",
    "\n",
    "print(\"\\nCumulative explained variance ratios:\")\n",
    "for i, cum_var in enumerate(cumulative_explained_variance, start=1):\n",
    "    print(f\"Principal Component {i}: {cum_var:.4f}\")"
   ]
  },
  {
   "cell_type": "code",
   "execution_count": 8,
   "id": "6797f2bc",
   "metadata": {},
   "outputs": [
    {
     "name": "stderr",
     "output_type": "stream",
     "text": [
      "/home/sheldoncooper/anaconda3/lib/python3.9/site-packages/sklearn/base.py:450: UserWarning: X does not have valid feature names, but StandardScaler was fitted with feature names\n",
      "  warnings.warn(\n",
      "/home/sheldoncooper/anaconda3/lib/python3.9/site-packages/sklearn/base.py:450: UserWarning: X does not have valid feature names, but StandardScaler was fitted with feature names\n",
      "  warnings.warn(\n"
     ]
    }
   ],
   "source": [
    "# Transform validation and test sets\n",
    "X_val_numeric = X_val.values\n",
    "X_val_pca = pca.transform(scaler.transform(X_val_numeric))\n",
    "\n",
    "X_test_numeric = X_test.values\n",
    "X_test_pca = pca.transform(scaler.transform(X_test_numeric))"
   ]
  },
  {
   "cell_type": "code",
   "execution_count": 1,
   "id": "8f59d610",
   "metadata": {},
   "outputs": [
    {
     "ename": "NameError",
     "evalue": "name 'X_train_pca' is not defined",
     "output_type": "error",
     "traceback": [
      "\u001b[0;31m---------------------------------------------------------------------------\u001b[0m",
      "\u001b[0;31mNameError\u001b[0m                                 Traceback (most recent call last)",
      "Input \u001b[0;32mIn [1]\u001b[0m, in \u001b[0;36m<cell line: 16>\u001b[0;34m()\u001b[0m\n\u001b[1;32m     14\u001b[0m rf \u001b[38;5;241m=\u001b[39m RandomForestClassifier(random_state\u001b[38;5;241m=\u001b[39m\u001b[38;5;241m1\u001b[39m)\n\u001b[1;32m     15\u001b[0m grid_search \u001b[38;5;241m=\u001b[39m GridSearchCV(rf, param_grid, cv\u001b[38;5;241m=\u001b[39m\u001b[38;5;241m3\u001b[39m, n_jobs\u001b[38;5;241m=\u001b[39m\u001b[38;5;241m-\u001b[39m\u001b[38;5;241m1\u001b[39m, verbose\u001b[38;5;241m=\u001b[39m\u001b[38;5;241m1\u001b[39m)\n\u001b[0;32m---> 16\u001b[0m grid_search\u001b[38;5;241m.\u001b[39mfit(\u001b[43mX_train_pca\u001b[49m, y_train_resampled)\n\u001b[1;32m     18\u001b[0m \u001b[38;5;66;03m# Get the best estimator\u001b[39;00m\n\u001b[1;32m     19\u001b[0m best_rf \u001b[38;5;241m=\u001b[39m grid_search\u001b[38;5;241m.\u001b[39mbest_estimator_\n",
      "\u001b[0;31mNameError\u001b[0m: name 'X_train_pca' is not defined"
     ]
    }
   ],
   "source": [
    "from sklearn.ensemble import RandomForestClassifier\n",
    "from sklearn.metrics import accuracy_score, classification_report, confusion_matrix\n",
    "from sklearn.model_selection import GridSearchCV\n",
    "\n",
    "# Define parameter grid for GridSearchCV\n",
    "param_grid = {\n",
    "    'n_estimators': [100, 200],\n",
    "    'max_depth': [10, 20],\n",
    "    'min_samples_split': [2, 5],\n",
    "    'min_samples_leaf': [2, 4]\n",
    "}\n",
    "\n",
    "# Initialize and fit RandomForestClassifier with GridSearchCV\n",
    "rf = RandomForestClassifier(random_state=1)\n",
    "grid_search = GridSearchCV(rf, param_grid, cv=3, n_jobs=-1, verbose=1)\n",
    "grid_search.fit(X_train_pca, y_train_resampled)\n",
    "\n",
    "# Get the best estimator\n",
    "best_rf = grid_search.best_estimator_\n",
    "\n",
    "# Evaluate on validation set\n",
    "y_val_pred = best_rf.predict(X_val_pca)\n",
    "val_accuracy = accuracy_score(y_val, y_val_pred)\n",
    "print(f\"Validation Accuracy: {val_accuracy:.2f}\")\n",
    "print(\"Validation Classification Report:\")\n",
    "print(classification_report(y_val, y_val_pred))\n",
    "print(\"Validation Confusion Matrix:\")\n",
    "print(confusion_matrix(y_val, y_val_pred))\n",
    "\n",
    "# Evaluate on test set\n",
    "y_test_pred = best_rf.predict(X_test_pca)\n",
    "test_accuracy = accuracy_score(y_test, y_test_pred)\n",
    "print(f\"Test Accuracy: {test_accuracy:.2f}\")\n",
    "print(\"Test Classification Report:\")\n",
    "print(classification_report(y_test, y_test_pred))\n",
    "print(\"Test Confusion Matrix:\")\n",
    "print(confusion_matrix(y_test, y_test_pred))"
   ]
  },
  {
   "cell_type": "code",
   "execution_count": 11,
   "id": "4c88dfb4",
   "metadata": {},
   "outputs": [
    {
     "name": "stdout",
     "output_type": "stream",
     "text": [
      "Validation Accuracy: 0.99\n",
      "Validation Classification Report:\n",
      "              precision    recall  f1-score   support\n",
      "\n",
      "        BRCA       0.97      1.00      0.98        28\n",
      "        COAD       1.00      1.00      1.00         9\n",
      "        KIRC       1.00      1.00      1.00        10\n",
      "        LUAD       1.00      0.92      0.96        13\n",
      "        PRAD       1.00      1.00      1.00        21\n",
      "\n",
      "    accuracy                           0.99        81\n",
      "   macro avg       0.99      0.98      0.99        81\n",
      "weighted avg       0.99      0.99      0.99        81\n",
      "\n",
      "Validation Confusion Matrix:\n",
      "[[28  0  0  0  0]\n",
      " [ 0  9  0  0  0]\n",
      " [ 0  0 10  0  0]\n",
      " [ 1  0  0 12  0]\n",
      " [ 0  0  0  0 21]]\n"
     ]
    },
    {
     "name": "stderr",
     "output_type": "stream",
     "text": [
      "/home/sheldoncooper/anaconda3/lib/python3.9/site-packages/sklearn/neural_network/_multilayer_perceptron.py:692: ConvergenceWarning: Stochastic Optimizer: Maximum iterations (200) reached and the optimization hasn't converged yet.\n",
      "  warnings.warn(\n",
      "/home/sheldoncooper/anaconda3/lib/python3.9/site-packages/sklearn/neural_network/_multilayer_perceptron.py:692: ConvergenceWarning: Stochastic Optimizer: Maximum iterations (200) reached and the optimization hasn't converged yet.\n",
      "  warnings.warn(\n",
      "/home/sheldoncooper/anaconda3/lib/python3.9/site-packages/sklearn/neural_network/_multilayer_perceptron.py:692: ConvergenceWarning: Stochastic Optimizer: Maximum iterations (200) reached and the optimization hasn't converged yet.\n",
      "  warnings.warn(\n",
      "/home/sheldoncooper/anaconda3/lib/python3.9/site-packages/sklearn/neural_network/_multilayer_perceptron.py:692: ConvergenceWarning: Stochastic Optimizer: Maximum iterations (200) reached and the optimization hasn't converged yet.\n",
      "  warnings.warn(\n",
      "/home/sheldoncooper/anaconda3/lib/python3.9/site-packages/sklearn/neural_network/_multilayer_perceptron.py:692: ConvergenceWarning: Stochastic Optimizer: Maximum iterations (200) reached and the optimization hasn't converged yet.\n",
      "  warnings.warn(\n",
      "/home/sheldoncooper/anaconda3/lib/python3.9/site-packages/sklearn/neural_network/_multilayer_perceptron.py:692: ConvergenceWarning: Stochastic Optimizer: Maximum iterations (200) reached and the optimization hasn't converged yet.\n",
      "  warnings.warn(\n",
      "/home/sheldoncooper/anaconda3/lib/python3.9/site-packages/sklearn/neural_network/_multilayer_perceptron.py:692: ConvergenceWarning: Stochastic Optimizer: Maximum iterations (200) reached and the optimization hasn't converged yet.\n",
      "  warnings.warn(\n",
      "/home/sheldoncooper/anaconda3/lib/python3.9/site-packages/sklearn/neural_network/_multilayer_perceptron.py:692: ConvergenceWarning: Stochastic Optimizer: Maximum iterations (200) reached and the optimization hasn't converged yet.\n",
      "  warnings.warn(\n",
      "/home/sheldoncooper/anaconda3/lib/python3.9/site-packages/sklearn/neural_network/_multilayer_perceptron.py:692: ConvergenceWarning: Stochastic Optimizer: Maximum iterations (200) reached and the optimization hasn't converged yet.\n",
      "  warnings.warn(\n",
      "/home/sheldoncooper/anaconda3/lib/python3.9/site-packages/sklearn/neural_network/_multilayer_perceptron.py:692: ConvergenceWarning: Stochastic Optimizer: Maximum iterations (200) reached and the optimization hasn't converged yet.\n",
      "  warnings.warn(\n",
      "/home/sheldoncooper/anaconda3/lib/python3.9/site-packages/sklearn/neural_network/_multilayer_perceptron.py:692: ConvergenceWarning: Stochastic Optimizer: Maximum iterations (200) reached and the optimization hasn't converged yet.\n",
      "  warnings.warn(\n",
      "/home/sheldoncooper/anaconda3/lib/python3.9/site-packages/sklearn/neural_network/_multilayer_perceptron.py:692: ConvergenceWarning: Stochastic Optimizer: Maximum iterations (200) reached and the optimization hasn't converged yet.\n",
      "  warnings.warn(\n",
      "/home/sheldoncooper/anaconda3/lib/python3.9/site-packages/sklearn/neural_network/_multilayer_perceptron.py:692: ConvergenceWarning: Stochastic Optimizer: Maximum iterations (200) reached and the optimization hasn't converged yet.\n",
      "  warnings.warn(\n",
      "/home/sheldoncooper/anaconda3/lib/python3.9/site-packages/sklearn/neural_network/_multilayer_perceptron.py:692: ConvergenceWarning: Stochastic Optimizer: Maximum iterations (200) reached and the optimization hasn't converged yet.\n",
      "  warnings.warn(\n",
      "/home/sheldoncooper/anaconda3/lib/python3.9/site-packages/sklearn/neural_network/_multilayer_perceptron.py:692: ConvergenceWarning: Stochastic Optimizer: Maximum iterations (200) reached and the optimization hasn't converged yet.\n",
      "  warnings.warn(\n",
      "/home/sheldoncooper/anaconda3/lib/python3.9/site-packages/sklearn/neural_network/_multilayer_perceptron.py:692: ConvergenceWarning: Stochastic Optimizer: Maximum iterations (200) reached and the optimization hasn't converged yet.\n",
      "  warnings.warn(\n",
      "/home/sheldoncooper/anaconda3/lib/python3.9/site-packages/sklearn/neural_network/_multilayer_perceptron.py:692: ConvergenceWarning: Stochastic Optimizer: Maximum iterations (200) reached and the optimization hasn't converged yet.\n",
      "  warnings.warn(\n",
      "/home/sheldoncooper/anaconda3/lib/python3.9/site-packages/sklearn/neural_network/_multilayer_perceptron.py:692: ConvergenceWarning: Stochastic Optimizer: Maximum iterations (200) reached and the optimization hasn't converged yet.\n",
      "  warnings.warn(\n",
      "/home/sheldoncooper/anaconda3/lib/python3.9/site-packages/sklearn/neural_network/_multilayer_perceptron.py:692: ConvergenceWarning: Stochastic Optimizer: Maximum iterations (200) reached and the optimization hasn't converged yet.\n",
      "  warnings.warn(\n",
      "/home/sheldoncooper/anaconda3/lib/python3.9/site-packages/sklearn/neural_network/_multilayer_perceptron.py:692: ConvergenceWarning: Stochastic Optimizer: Maximum iterations (200) reached and the optimization hasn't converged yet.\n",
      "  warnings.warn(\n"
     ]
    },
    {
     "name": "stdout",
     "output_type": "stream",
     "text": [
      "Best Parameters: {'activation': 'tanh', 'alpha': 0.0001, 'hidden_layer_sizes': (100,), 'learning_rate': 'constant', 'solver': 'adam'}\n",
      "Validation Accuracy after tuning: 0.99\n",
      "Validation Classification Report after tuning:\n",
      "              precision    recall  f1-score   support\n",
      "\n",
      "        BRCA       0.97      1.00      0.98        28\n",
      "        COAD       1.00      1.00      1.00         9\n",
      "        KIRC       1.00      1.00      1.00        10\n",
      "        LUAD       1.00      0.92      0.96        13\n",
      "        PRAD       1.00      1.00      1.00        21\n",
      "\n",
      "    accuracy                           0.99        81\n",
      "   macro avg       0.99      0.98      0.99        81\n",
      "weighted avg       0.99      0.99      0.99        81\n",
      "\n",
      "Validation Confusion Matrix after tuning:\n",
      "[[28  0  0  0  0]\n",
      " [ 0  9  0  0  0]\n",
      " [ 0  0 10  0  0]\n",
      " [ 1  0  0 12  0]\n",
      " [ 0  0  0  0 21]]\n"
     ]
    }
   ],
   "source": [
    "# Train MLP (Multi-Layer Perceptron)\n",
    "from sklearn.neural_network import MLPClassifier\n",
    "from sklearn.metrics import accuracy_score, classification_report, confusion_matrix\n",
    "from sklearn.model_selection import GridSearchCV\n",
    "\n",
    "# Initialise anc configure the MLPClassifier\n",
    "mlp = MLPClassifier(random_state=1)\n",
    "\n",
    "# Train the MLPClassifier on Training Data\n",
    "mlp.fit(X_train_pca, y_train_resampled)\n",
    "\n",
    "# Evaluate the model on Validation Data\n",
    "# Predict on Validation Data\n",
    "y_val_pred = mlp.predict(X_val_pca)\n",
    "\n",
    "# Calculate accuracy\n",
    "val_accuracy = accuracy_score(y_val, y_val_pred)\n",
    "print(f\"Validation Accuracy: {val_accuracy:.2f}\")\n",
    "\n",
    "# Print Classification report\n",
    "print(\"Validation Classification Report:\")\n",
    "print(classification_report(y_val, y_val_pred))\n",
    "\n",
    "# Print confusion matrix\n",
    "print(\"Validation Confusion Matrix:\")\n",
    "print(confusion_matrix(y_val, y_val_pred))\n",
    "\n",
    "# Tune Hyperparamters with GridSearchCV (Optional)\n",
    "param_grid = {\n",
    "    'hidden_layer_sizes': [(50,50,50), (50,100,50), (100,)],\n",
    "    'activation': ['tanh', 'relu'],\n",
    "    'solver': ['sgd', 'adam'],\n",
    "    'alpha': [0.0001, 0.05],\n",
    "    'learning_rate': ['constant','adaptive'],\n",
    "}\n",
    "\n",
    "grid_search = GridSearchCV(mlp, param_grid, n_jobs=-1, cv=3)\n",
    "grid_search.fit(X_train_pca, y_train_resampled)\n",
    "\n",
    "# Get the best parameters\n",
    "best_params = grid_search.best_params_\n",
    "print(f\"Best Parameters: {best_params}\")\n",
    "\n",
    "# Train the model with the best parameters\n",
    "mlp = grid_search.best_estimator_\n",
    "\n",
    "# Evaluate on validation data\n",
    "y_val_pred = mlp.predict(X_val_pca)\n",
    "val_accuracy = accuracy_score(y_val, y_val_pred)\n",
    "print(f\"Validation Accuracy after tuning: {val_accuracy:.2f}\")\n",
    "\n",
    "print(\"Validation Classification Report after tuning:\")\n",
    "print(classification_report(y_val, y_val_pred))\n",
    "\n",
    "print(\"Validation Confusion Matrix after tuning:\")\n",
    "print(confusion_matrix(y_val, y_val_pred))"
   ]
  },
  {
   "cell_type": "code",
   "execution_count": null,
   "id": "d1e3b956",
   "metadata": {},
   "outputs": [],
   "source": []
  }
 ],
 "metadata": {
  "kernelspec": {
   "display_name": "Python 3 (ipykernel)",
   "language": "python",
   "name": "python3"
  },
  "language_info": {
   "codemirror_mode": {
    "name": "ipython",
    "version": 3
   },
   "file_extension": ".py",
   "mimetype": "text/x-python",
   "name": "python",
   "nbconvert_exporter": "python",
   "pygments_lexer": "ipython3",
   "version": "3.9.12"
  }
 },
 "nbformat": 4,
 "nbformat_minor": 5
}
